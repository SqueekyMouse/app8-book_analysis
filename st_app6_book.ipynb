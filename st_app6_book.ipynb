{
 "cells": [
  {
   "cell_type": "markdown",
   "id": "ceb1a313-66f6-4842-b4e6-6258adc8d4db",
   "metadata": {},
   "source": [
    "# Load the book"
   ]
  },
  {
   "cell_type": "code",
   "execution_count": 1,
   "id": "36128767-15d4-49e0-911b-e6c3bff894af",
   "metadata": {
    "tags": []
   },
   "outputs": [],
   "source": [
    "with open('miracle_in_the_andes.txt','r') as file:\n",
    "    book=file.read()"
   ]
  },
  {
   "cell_type": "markdown",
   "id": "95dbe369-0007-492b-bbfc-b56bb48f5804",
   "metadata": {},
   "source": [
    "# Extract pragraphs where 'love' was used"
   ]
  },
  {
   "cell_type": "code",
   "execution_count": 2,
   "id": "e24c9d16-5633-43e0-a3c1-6abc3379b39b",
   "metadata": {
    "tags": []
   },
   "outputs": [],
   "source": [
    "import re"
   ]
  },
  {
   "cell_type": "code",
   "execution_count": 25,
   "id": "4a1f190c-ad84-4035-bbbb-e38d524a86e5",
   "metadata": {
    "tags": []
   },
   "outputs": [],
   "source": [
    "pattern=re.compile('[^\\n]+love[^\\n]+') #no need to escape \\ for \\n!!!\n",
    "para_list=re.findall(pattern,book)\n"
   ]
  },
  {
   "cell_type": "code",
   "execution_count": 24,
   "id": "be869ddb-5ddb-46b1-a29e-f746d6f1c9ae",
   "metadata": {
    "tags": []
   },
   "outputs": [
    {
     "data": {
      "text/plain": [
       "['To me, this is the essence of rugby. No other sport gives you such an intense sense of selflessness and unified purpose. I believe this is why rugby players all over the world feel such a passion for the game and such a feeling of brotherhood. As a young man, of course, I could not put these things into words, but I knew, and my teammates knew, that there was something special about the game, and under the guidance of the Christian Brothers we developed a passionate love for the sport that shaped our friendships and our lives. For eight years we played our hearts out for the Christian Brothers—a brotherhood of young boys with Latin names, playing a game with deep Anglo roots under Uruguay’s sunny skies, and proudly wearing the bright green shamrock on our uniforms. The game became so much a part of our lives, in fact, that when we graduated from Stella Maris at the age of sixteen, many of us could not bear the thought that our playing days were over. Our salvation came in the form of the Old Christians Club, a private rugby team formed in 1965 by previous alumni of the Stella Maris rugby program to give Stella Maris ruggers a chance to continue playing the game after our school years ended.',\n",
       " 'There were others—Alexis Hounie, Gastón Costemalle, Daniel Shaw—all of them great players and all of them my friends. But my oldest friend was Guido Magri. He and I had met on my first day at the Stella Maris School—I was eight years old and Guido was one year older—and we had been inseparable ever since. Guido and I grew up together, playing soccer and sharing a love of motorcycles, cars, and auto racing. When I was fifteen we both had mopeds that we had modified in silly ways—removing the mufflers, turn signals, and fenders—and we would ride them to Las Delicias, a famous ice cream parlor in our neighborhood, where we would drool over the girls from the nearby School Sagrado Corazón, hoping to impress them with our souped-up scooters. Guido was a dependable friend, with a good sense of humor and an easy laugh. He was also an outstanding scrum half, as quick and smart as a fox, with good hands and great courage. Under the guidance of the Christian Brothers, both of us grew to love the game of rugby with a consuming passion. As seasons passed we worked hard to improve our skills, and by the time I was fifteen we had each earned a spot on the Stella Maris First XV, the team’s starting lineup. After graduation, both of us went on to join the Old Christians and spent several happy seasons pursuing the high-octane social life of young rugby players. That rowdiness came to an abrupt end for Guido in 1969, when he met and fell in love with the beautiful daughter of a Chilean diplomat. She was now his fiancée, and he was happy to behave himself for her sake.']"
      ]
     },
     "execution_count": 24,
     "metadata": {},
     "output_type": "execute_result"
    }
   ],
   "source": [
    "para_list[:2]"
   ]
  },
  {
   "cell_type": "code",
   "execution_count": 11,
   "id": "9b53da4c-0540-4254-8faa-933835af60ec",
   "metadata": {
    "tags": []
   },
   "outputs": [
    {
     "data": {
      "text/plain": [
       "60"
      ]
     },
     "execution_count": 11,
     "metadata": {},
     "output_type": "execute_result"
    }
   ],
   "source": [
    "len(para_list)"
   ]
  },
  {
   "cell_type": "markdown",
   "id": "9e2dc55b-449b-4670-90b3-08c806d01e56",
   "metadata": {},
   "source": [
    "# Extract the chapter titles"
   ]
  },
  {
   "cell_type": "code",
   "execution_count": 13,
   "id": "24612716-a2b4-40c0-be07-06e7754c9eb7",
   "metadata": {
    "tags": []
   },
   "outputs": [],
   "source": [
    "#book"
   ]
  },
  {
   "cell_type": "markdown",
   "id": "7dd6e21c-9436-4347-92d9-f6d439a9d56d",
   "metadata": {},
   "source": [
    "### Method 1"
   ]
  },
  {
   "cell_type": "code",
   "execution_count": 29,
   "id": "5c60f722-7986-49f5-bb5d-691a31fa7a39",
   "metadata": {
    "tags": []
   },
   "outputs": [
    {
     "data": {
      "text/plain": [
       "['Before',\n",
       " 'Everything Precious',\n",
       " 'A Promise',\n",
       " 'Breathe Once More',\n",
       " 'Abandoned',\n",
       " 'Tomb',\n",
       " 'East',\n",
       " 'The Opposite of Death',\n",
       " 'I See a Man',\n",
       " 'After']"
      ]
     },
     "execution_count": 29,
     "metadata": {},
     "output_type": "execute_result"
    }
   ],
   "source": [
    "pattern=re.compile('[\\n]{1}[A-Za-z ,]+[\\n]{2}') # title could contain space and ,\n",
    "title_list=re.findall(pattern,book)\n",
    "title_list=[title.strip() for title in title_list]\n",
    "title_list"
   ]
  },
  {
   "cell_type": "markdown",
   "id": "1fe43805-74b4-42b7-b9a3-2afdfc770685",
   "metadata": {},
   "source": [
    "### Method 2"
   ]
  },
  {
   "cell_type": "code",
   "execution_count": 32,
   "id": "c9d6dde7-17ec-4bd8-ae6c-b6327b1b763f",
   "metadata": {
    "tags": []
   },
   "outputs": [
    {
     "data": {
      "text/plain": [
       "['Before',\n",
       " 'Everything Precious',\n",
       " 'A Promise',\n",
       " 'Breathe Once More',\n",
       " 'Abandoned',\n",
       " 'Tomb',\n",
       " 'East',\n",
       " 'The Opposite of Death',\n",
       " 'I See a Man',\n",
       " 'After']"
      ]
     },
     "execution_count": 32,
     "metadata": {},
     "output_type": "execute_result"
    }
   ],
   "source": [
    "pattern=re.compile('[\\n]{1}([A-Za-z ,]+)[\\n]{2}') # () means only include that expr in the result so no need to strip later**********!!!\n",
    "title_list=re.findall(pattern,book)\n",
    "title_list"
   ]
  },
  {
   "cell_type": "markdown",
   "id": "0d466be2-5662-4f69-ba7e-555a440ac171",
   "metadata": {},
   "source": [
    "# Functon that finds the occurence of any word"
   ]
  },
  {
   "cell_type": "code",
   "execution_count": 45,
   "id": "d11407e7-ba86-4dde-8143-e4b47c7f09c9",
   "metadata": {
    "tags": []
   },
   "outputs": [],
   "source": [
    "pattern=re.compile('[a-zA-Z]+')\n",
    "findings=re.findall(pattern,book.lower())\n",
    "d={}\n",
    "for word in findings:\n",
    "    if word in d.keys():\n",
    "        d[word]+=1\n",
    "    else:\n",
    "        d[word]=1"
   ]
  },
  {
   "cell_type": "code",
   "execution_count": 46,
   "id": "e1e701a7-dc99-42aa-a777-f5deae9f4d0f",
   "metadata": {
    "tags": []
   },
   "outputs": [],
   "source": [
    "def find_words(aword):\n",
    "    if aword.lower() in d.keys():\n",
    "        return(d[aword])\n",
    "    else:\n",
    "        return(f'Book does not contain the word \"{aword}\"')"
   ]
  },
  {
   "cell_type": "markdown",
   "id": "4511129a-0b4c-47d0-835f-120eb742c2e0",
   "metadata": {},
   "source": [
    "# Call the function"
   ]
  },
  {
   "cell_type": "code",
   "execution_count": 47,
   "id": "df70efaa-a9e9-401b-a8eb-8f7b227416c0",
   "metadata": {
    "tags": []
   },
   "outputs": [
    {
     "data": {
      "text/plain": [
       "1"
      ]
     },
     "execution_count": 47,
     "metadata": {},
     "output_type": "execute_result"
    }
   ],
   "source": [
    "find_words('blank')"
   ]
  },
  {
   "cell_type": "code",
   "execution_count": 49,
   "id": "538b8e48-4a0c-48f7-97f8-5848635c389c",
   "metadata": {
    "tags": []
   },
   "outputs": [
    {
     "data": {
      "text/plain": [
       "'Book does not contain the word \"qqqqq\"'"
      ]
     },
     "execution_count": 49,
     "metadata": {},
     "output_type": "execute_result"
    }
   ],
   "source": [
    "find_words('qqqqq')"
   ]
  }
 ],
 "metadata": {
  "kernelspec": {
   "display_name": "Python 3 (ipykernel)",
   "language": "python",
   "name": "python3"
  },
  "language_info": {
   "codemirror_mode": {
    "name": "ipython",
    "version": 3
   },
   "file_extension": ".py",
   "mimetype": "text/x-python",
   "name": "python",
   "nbconvert_exporter": "python",
   "pygments_lexer": "ipython3",
   "version": "3.11.2"
  }
 },
 "nbformat": 4,
 "nbformat_minor": 5
}
