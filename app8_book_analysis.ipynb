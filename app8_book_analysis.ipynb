{
 "cells": [
  {
   "cell_type": "markdown",
   "id": "038a42bd-f277-44e1-9da8-df129b33bc7a",
   "metadata": {
    "tags": []
   },
   "source": [
    "# Load the book"
   ]
  },
  {
   "cell_type": "code",
   "execution_count": 1,
   "id": "596d00e8-e5b8-45d5-9075-84eb8db4d87d",
   "metadata": {
    "tags": []
   },
   "outputs": [],
   "source": [
    "with open('miracle_in_the_andes.txt','r') as file:\n",
    "    book=file.read()"
   ]
  },
  {
   "cell_type": "code",
   "execution_count": 2,
   "id": "030091c5-b977-4d57-83ae-4508ed475662",
   "metadata": {
    "tags": []
   },
   "outputs": [
    {
     "data": {
      "text/plain": [
       "str"
      ]
     },
     "execution_count": 2,
     "metadata": {},
     "output_type": "execute_result"
    }
   ],
   "source": [
    "type(book)"
   ]
  },
  {
   "cell_type": "markdown",
   "id": "cd1d7197-197f-4476-b246-55942e594d9f",
   "metadata": {},
   "source": [
    "# How many chapters?"
   ]
  },
  {
   "cell_type": "markdown",
   "id": "25c69fbb-2e65-4148-81df-af225776efb3",
   "metadata": {},
   "source": [
    "### With string methods"
   ]
  },
  {
   "cell_type": "code",
   "execution_count": 3,
   "id": "3a4b6b77-e4af-4c3f-a64d-6aba98e189bd",
   "metadata": {
    "tags": []
   },
   "outputs": [
    {
     "data": {
      "text/plain": [
       "11"
      ]
     },
     "execution_count": 3,
     "metadata": {},
     "output_type": "execute_result"
    }
   ],
   "source": [
    "book.count('Chapter') # extra chapter in body so cont is not exact!!!"
   ]
  },
  {
   "cell_type": "markdown",
   "id": "f5b76233-d57b-4148-91c2-83deaf1a5135",
   "metadata": {
    "tags": []
   },
   "source": [
    "### With regex"
   ]
  },
  {
   "cell_type": "code",
   "execution_count": 4,
   "id": "9103df7a-a940-4351-b445-2f4ff9d92635",
   "metadata": {
    "tags": []
   },
   "outputs": [],
   "source": [
    "import re"
   ]
  },
  {
   "cell_type": "code",
   "execution_count": 5,
   "id": "4745e14e-89b2-45ef-82db-292c3cfdf376",
   "metadata": {
    "tags": []
   },
   "outputs": [],
   "source": [
    "#pattern=re.compile('Chapter [0-9]')"
   ]
  },
  {
   "cell_type": "code",
   "execution_count": 6,
   "id": "2fb04847-479a-428e-99a9-d255a74eb7f1",
   "metadata": {
    "tags": []
   },
   "outputs": [],
   "source": [
    "pattern=re.compile('Chapter [0-9]+') # + more than 1 digits"
   ]
  },
  {
   "cell_type": "code",
   "execution_count": 7,
   "id": "2ea5bc34-f677-42dc-a306-d0a60d375107",
   "metadata": {
    "tags": []
   },
   "outputs": [
    {
     "data": {
      "text/plain": [
       "re.compile(r'Chapter [0-9]+', re.UNICODE)"
      ]
     },
     "execution_count": 7,
     "metadata": {},
     "output_type": "execute_result"
    }
   ],
   "source": [
    "pattern"
   ]
  },
  {
   "cell_type": "code",
   "execution_count": 8,
   "id": "bea18016-fd92-4e4a-91b1-fb6b7a7f3bbd",
   "metadata": {
    "tags": []
   },
   "outputs": [
    {
     "data": {
      "text/plain": [
       "['Chapter 1',\n",
       " 'Chapter 2',\n",
       " 'Chapter 3',\n",
       " 'Chapter 4',\n",
       " 'Chapter 5',\n",
       " 'Chapter 6',\n",
       " 'Chapter 7',\n",
       " 'Chapter 8',\n",
       " 'Chapter 9',\n",
       " 'Chapter 10']"
      ]
     },
     "execution_count": 8,
     "metadata": {},
     "output_type": "execute_result"
    }
   ],
   "source": [
    "re.findall(pattern,book)"
   ]
  },
  {
   "cell_type": "code",
   "execution_count": 9,
   "id": "2cffc084-7ffe-44d1-997a-d0e6272ac8b8",
   "metadata": {
    "tags": []
   },
   "outputs": [
    {
     "data": {
      "text/plain": [
       "10"
      ]
     },
     "execution_count": 9,
     "metadata": {},
     "output_type": "execute_result"
    }
   ],
   "source": [
    "findings=re.findall(pattern,book)\n",
    "len(findings)"
   ]
  },
  {
   "cell_type": "markdown",
   "id": "8f96d46b-025b-4439-b555-f29cd1b1f03d",
   "metadata": {},
   "source": [
    "# Which are the sentences where 'love' was used?"
   ]
  },
  {
   "cell_type": "code",
   "execution_count": 10,
   "id": "0ad17bc8-e942-4358-a951-c4d0491b1756",
   "metadata": {
    "tags": []
   },
   "outputs": [],
   "source": [
    "pattern=re.compile('[ a-z]love')\n",
    "findings=re.findall(pattern,book)\n",
    "#findings #this would be alist of 'love' only!!!"
   ]
  },
  {
   "cell_type": "code",
   "execution_count": 11,
   "id": "ba484139-9095-45b5-99dd-5f259acb1145",
   "metadata": {},
   "outputs": [],
   "source": [
    "#pattern=re.compile('[a-zA-Z]* love [a-zA-Z]*')"
   ]
  },
  {
   "cell_type": "code",
   "execution_count": 12,
   "id": "05e9ab8d-cf2d-44f2-a2d7-1aed869899b1",
   "metadata": {
    "tags": []
   },
   "outputs": [],
   "source": [
    "#pattern=re.compile('[a-zA-Z ,]* love [ a-zA-Z]*')"
   ]
  },
  {
   "cell_type": "code",
   "execution_count": 13,
   "id": "97c81db6-c799-408a-8594-3936667df608",
   "metadata": {
    "tags": []
   },
   "outputs": [],
   "source": [
    "#pattern=re.compile('[^.]* love [ a-zA-Z]*')# [^.]* anything bt the period"
   ]
  },
  {
   "cell_type": "code",
   "execution_count": 14,
   "id": "a266bb99-ec82-4e12-9429-92525f25f954",
   "metadata": {
    "tags": []
   },
   "outputs": [],
   "source": [
    "#pattern=re.compile('[^.]* love [^.]*')# good gets the sentence but w/o period"
   ]
  },
  {
   "cell_type": "code",
   "execution_count": 15,
   "id": "4947bb86-80e5-4924-980f-f1f331d72dd9",
   "metadata": {
    "tags": []
   },
   "outputs": [],
   "source": [
    "#pattern=re.compile('[^.]* love [^.]*\\.')# good but len(findings) 49 is low, missed 'love,'"
   ]
  },
  {
   "cell_type": "code",
   "execution_count": 16,
   "id": "8fe93fa0-32ab-44af-86fa-658ce176ee25",
   "metadata": {
    "tags": []
   },
   "outputs": [],
   "source": [
    "#pattern=re.compile('[^.]* love[^a-zA-Z]+[^.]*\\.')# better len(findings) 67 is low, [^a-zA-Z]+ evrything but letters zero or more"
   ]
  },
  {
   "cell_type": "code",
   "execution_count": 17,
   "id": "4304d55d-9168-436b-a6ab-36420df112b1",
   "metadata": {
    "tags": []
   },
   "outputs": [],
   "source": [
    "#pattern=re.compile('[^.]*[^a-zA-Z]+love[^a-zA-Z]+[^.]*\\.')# better, first [^a-zA-Z]+ could be just ' ' but this better"
   ]
  },
  {
   "cell_type": "code",
   "execution_count": 18,
   "id": "897ced4c-404d-4703-bdef-70650055e1fb",
   "metadata": {
    "tags": []
   },
   "outputs": [],
   "source": [
    "pattern=re.compile('[A-Z]{1}[^.]*[^a-zA-Z]+love[^a-zA-Z]+[^.]*\\.')# to remove leading space [A-Z]{1} start with a single cap letter!!!"
   ]
  },
  {
   "cell_type": "code",
   "execution_count": 19,
   "id": "e1f6ae3f-dbc8-43d5-b24d-4c89e8a12402",
   "metadata": {
    "tags": []
   },
   "outputs": [
    {
     "data": {
      "text/plain": [
       "67"
      ]
     },
     "execution_count": 19,
     "metadata": {},
     "output_type": "execute_result"
    }
   ],
   "source": [
    "findings=re.findall(pattern,book)\n",
    "len(findings) # but num is low, missed 'love,'"
   ]
  },
  {
   "cell_type": "code",
   "execution_count": 20,
   "id": "09f5579c-feb3-4ff5-a680-040924aae050",
   "metadata": {
    "tags": []
   },
   "outputs": [],
   "source": [
    "#findings"
   ]
  },
  {
   "cell_type": "markdown",
   "id": "3ed167ff-9090-457a-98ac-24eb620ff4f0",
   "metadata": {},
   "source": [
    "# What are the most used words?"
   ]
  },
  {
   "cell_type": "code",
   "execution_count": 21,
   "id": "e12afc55-f2ff-477d-959e-3d7c204b8ea1",
   "metadata": {
    "tags": []
   },
   "outputs": [],
   "source": [
    "#book #is a string better to get list of words"
   ]
  },
  {
   "cell_type": "code",
   "execution_count": 22,
   "id": "ea8a6bbb-7489-40e2-a566-429c71eb2b94",
   "metadata": {
    "tags": []
   },
   "outputs": [],
   "source": [
    "#book.split() #bettr but words include ,.etc, not good"
   ]
  },
  {
   "cell_type": "code",
   "execution_count": 23,
   "id": "91ec211d-dbc3-438a-9af1-ada21c26d1d0",
   "metadata": {
    "tags": []
   },
   "outputs": [
    {
     "data": {
      "text/plain": [
       "86798"
      ]
     },
     "execution_count": 23,
     "metadata": {},
     "output_type": "execute_result"
    }
   ],
   "source": [
    "pattern=re.compile('[a-zA-Z]+') #match words\n",
    "findings=re.findall(pattern,book.lower()) #got list of words all lower\n",
    "len(findings)"
   ]
  },
  {
   "cell_type": "code",
   "execution_count": 24,
   "id": "d4e2ffbb-e2a2-4e0b-834d-4a252d8cf118",
   "metadata": {
    "tags": []
   },
   "outputs": [
    {
     "data": {
      "text/plain": [
       "['chapter', 'before', 'it', 'was', 'friday']"
      ]
     },
     "execution_count": 24,
     "metadata": {},
     "output_type": "execute_result"
    }
   ],
   "source": [
    "findings[:5]"
   ]
  },
  {
   "cell_type": "code",
   "execution_count": 25,
   "id": "24a63c43-d9d6-42f9-8bd0-99ab8e836a24",
   "metadata": {
    "tags": []
   },
   "outputs": [],
   "source": [
    "# create a dict of words lowercased\n",
    "d={}\n",
    "for word in findings:\n",
    "    if word in d.keys():\n",
    "        d[word]+=1\n",
    "    else:\n",
    "        d[word]=0"
   ]
  },
  {
   "cell_type": "code",
   "execution_count": 26,
   "id": "2661b196-be1c-485d-b687-72e3afc9ce35",
   "metadata": {
    "tags": []
   },
   "outputs": [],
   "source": [
    "#d"
   ]
  },
  {
   "cell_type": "code",
   "execution_count": 27,
   "id": "c464d077-ad90-4707-939f-6b363cfcc9aa",
   "metadata": {
    "tags": []
   },
   "outputs": [],
   "source": [
    "#sorted(d.values(),reverse=True)[0] #"
   ]
  },
  {
   "cell_type": "code",
   "execution_count": 28,
   "id": "c3260fe9-d4c4-4392-89aa-5c744a05b984",
   "metadata": {
    "tags": []
   },
   "outputs": [],
   "source": [
    "d_list=[(value,key) for (key,value) in d.items()]# list comprehension to conv dict to list, cannto sort dict, list we can sort!!!\n",
    "#sorted(d_list,reverse=True)"
   ]
  },
  {
   "cell_type": "code",
   "execution_count": 29,
   "id": "a185da31-660a-4b93-baa0-634738f9e259",
   "metadata": {
    "tags": []
   },
   "outputs": [
    {
     "data": {
      "text/plain": [
       "[(5345, 'the'),\n",
       " (2794, 'and'),\n",
       " (2728, 'i'),\n",
       " (2399, 'to'),\n",
       " (2059, 'of'),\n",
       " (1565, 'a'),\n",
       " (1429, 'was'),\n",
       " (1418, 'in'),\n",
       " (1225, 'we'),\n",
       " (1168, 'my')]"
      ]
     },
     "execution_count": 29,
     "metadata": {},
     "output_type": "execute_result"
    }
   ],
   "source": [
    "sorted(d_list,reverse=True)[:10] # most used words"
   ]
  },
  {
   "cell_type": "markdown",
   "id": "c7671b46-9c22-48ef-928f-06abe4669227",
   "metadata": {},
   "source": [
    "### But this has common words so wee need to use natural language processing!!!\n",
    "### to filter out stock words"
   ]
  }
 ],
 "metadata": {
  "kernelspec": {
   "display_name": "Python 3 (ipykernel)",
   "language": "python",
   "name": "python3"
  },
  "language_info": {
   "codemirror_mode": {
    "name": "ipython",
    "version": 3
   },
   "file_extension": ".py",
   "mimetype": "text/x-python",
   "name": "python",
   "nbconvert_exporter": "python",
   "pygments_lexer": "ipython3",
   "version": "3.11.2"
  }
 },
 "nbformat": 4,
 "nbformat_minor": 5
}
