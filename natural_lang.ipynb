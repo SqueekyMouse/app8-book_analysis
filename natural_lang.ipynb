{
 "cells": [
  {
   "cell_type": "markdown",
   "id": "cd523625-5fdf-4214-880d-37cec07ae6dd",
   "metadata": {},
   "source": [
    "# Loading the book"
   ]
  },
  {
   "cell_type": "code",
   "execution_count": 18,
   "id": "1cf6672a-2d76-4087-8c99-5573d9ca97f2",
   "metadata": {
    "tags": []
   },
   "outputs": [],
   "source": [
    "with open('miracle_in_the_andes.txt','r') as file:\n",
    "    book=file.read()"
   ]
  },
  {
   "cell_type": "markdown",
   "id": "84ce286b-fd80-47f0-9a3b-35947cfc91dc",
   "metadata": {},
   "source": [
    "# The most used words (non-articles)"
   ]
  },
  {
   "cell_type": "code",
   "execution_count": 2,
   "id": "b63839d6-da8d-4aa0-b863-be19bbe58da1",
   "metadata": {
    "tags": []
   },
   "outputs": [
    {
     "data": {
      "text/plain": [
       "86798"
      ]
     },
     "execution_count": 2,
     "metadata": {},
     "output_type": "execute_result"
    }
   ],
   "source": [
    "import re\n",
    "pattern=re.compile('[a-zA-Z]+') #match words\n",
    "findings=re.findall(pattern,book.lower()) #got list of words all lower\n",
    "len(findings)"
   ]
  },
  {
   "cell_type": "code",
   "execution_count": 23,
   "id": "1c7a01a7-ab5f-42e7-90da-cdcd01300e5d",
   "metadata": {
    "tags": []
   },
   "outputs": [
    {
     "data": {
      "text/plain": [
       "['chapter', 'before', 'it', 'was', 'friday']"
      ]
     },
     "execution_count": 23,
     "metadata": {},
     "output_type": "execute_result"
    }
   ],
   "source": [
    "findings[:5]"
   ]
  },
  {
   "cell_type": "code",
   "execution_count": 21,
   "id": "8ab06672-2809-4822-90ac-c92f0bb7b3cc",
   "metadata": {
    "tags": []
   },
   "outputs": [],
   "source": [
    "# create a dict of words lowercased\n",
    "d={}\n",
    "for word in findings:\n",
    "    if word in d.keys():\n",
    "        d[word]+=1\n",
    "    else:\n",
    "        d[word]=0"
   ]
  },
  {
   "cell_type": "code",
   "execution_count": 29,
   "id": "22650b51-a178-4106-a7fa-0e18fbd96bf6",
   "metadata": {
    "tags": []
   },
   "outputs": [],
   "source": [
    "#d"
   ]
  },
  {
   "cell_type": "code",
   "execution_count": 31,
   "id": "857fc99e-d19d-4810-98a6-11e42a90e44e",
   "metadata": {
    "tags": []
   },
   "outputs": [],
   "source": [
    "d_list=[(value,key) for (key,value) in d.items()]# list comprehension to conv dict to list, cannto sort dict, list we can sort!!!\n",
    "d_list=sorted(d_list,reverse=True) # most used words"
   ]
  },
  {
   "cell_type": "code",
   "execution_count": 32,
   "id": "f2ab760d-e7f9-497a-b597-8a222f2641e8",
   "metadata": {
    "tags": []
   },
   "outputs": [
    {
     "data": {
      "text/plain": [
       "[(5345, 'the'), (2794, 'and'), (2728, 'i'), (2399, 'to'), (2059, 'of')]"
      ]
     },
     "execution_count": 32,
     "metadata": {},
     "output_type": "execute_result"
    }
   ],
   "source": [
    "d_list[:5]"
   ]
  },
  {
   "cell_type": "code",
   "execution_count": 6,
   "id": "db607154-b2b5-4dfc-b756-e5ca3c564c63",
   "metadata": {
    "tags": []
   },
   "outputs": [
    {
     "data": {
      "text/plain": [
       "'3.11.2'"
      ]
     },
     "execution_count": 6,
     "metadata": {},
     "output_type": "execute_result"
    }
   ],
   "source": [
    "from platform import python_version\n",
    "python_version()"
   ]
  },
  {
   "cell_type": "code",
   "execution_count": 7,
   "id": "ff7ce6cb-66f3-4f68-a22a-802be2518ce8",
   "metadata": {
    "tags": []
   },
   "outputs": [
    {
     "name": "stdout",
     "output_type": "stream",
     "text": [
      "Defaulting to user installation because normal site-packages is not writeable\n",
      "Requirement already satisfied: nltk in /home/sree/.local/lib/python3.11/site-packages (3.8.1)\n",
      "Requirement already satisfied: click in /home/sree/.local/lib/python3.11/site-packages (from nltk) (8.1.3)\n",
      "Requirement already satisfied: joblib in /home/sree/.local/lib/python3.11/site-packages (from nltk) (1.2.0)\n",
      "Requirement already satisfied: regex>=2021.8.3 in /home/sree/.local/lib/python3.11/site-packages (from nltk) (2022.10.31)\n",
      "Requirement already satisfied: tqdm in /home/sree/.local/lib/python3.11/site-packages (from nltk) (4.64.1)\n"
     ]
    }
   ],
   "source": [
    "!pip3.11 install nltk"
   ]
  },
  {
   "cell_type": "code",
   "execution_count": 8,
   "id": "39695b7f-03e7-481e-9982-bb4c109c721e",
   "metadata": {
    "tags": []
   },
   "outputs": [
    {
     "name": "stderr",
     "output_type": "stream",
     "text": [
      "[nltk_data] Downloading package stopwords to /home/sree/nltk_data...\n",
      "[nltk_data]   Package stopwords is already up-to-date!\n"
     ]
    },
    {
     "data": {
      "text/plain": [
       "True"
      ]
     },
     "execution_count": 8,
     "metadata": {},
     "output_type": "execute_result"
    }
   ],
   "source": [
    "import nltk\n",
    "nltk.download('stopwords') # nltk stopwords not found, so downloading it!!!!!"
   ]
  },
  {
   "cell_type": "code",
   "execution_count": 9,
   "id": "207365d6-0095-4f58-bd0d-b07a14d153b5",
   "metadata": {},
   "outputs": [],
   "source": [
    "import nltk\n",
    "from nltk.corpus import stopwords\n",
    "english_stopwords=stopwords.words('english')"
   ]
  },
  {
   "cell_type": "code",
   "execution_count": 10,
   "id": "c2dc89d7-35b6-4536-85fa-b4a96a9ce602",
   "metadata": {
    "tags": []
   },
   "outputs": [
    {
     "data": {
      "text/plain": [
       "['i', 'me', 'my', 'myself', 'we', 'our', 'ours', 'ourselves', 'you', \"you're\"]"
      ]
     },
     "execution_count": 10,
     "metadata": {},
     "output_type": "execute_result"
    }
   ],
   "source": [
    "english_stopwords[:10] # list of common english wordds"
   ]
  },
  {
   "cell_type": "code",
   "execution_count": 11,
   "id": "c967cef2-56b2-440b-859b-96f3ada24925",
   "metadata": {
    "tags": []
   },
   "outputs": [
    {
     "name": "stdout",
     "output_type": "stream",
     "text": [
      "the is present in stopwords\n"
     ]
    }
   ],
   "source": [
    "aword='the'\n",
    "if aword not in english_stopwords:\n",
    "    print(f'{aword} not in stopwords')\n",
    "else:\n",
    "    print(f'{aword} is present in stopwords')"
   ]
  },
  {
   "cell_type": "code",
   "execution_count": 36,
   "id": "8a6d8b1f-4f09-4909-965e-bfbc58020942",
   "metadata": {
    "tags": []
   },
   "outputs": [
    {
     "data": {
      "text/plain": [
       "[(359, 'they'),\n",
       " (349, 'him'),\n",
       " (332, 'so'),\n",
       " (319, 'this'),\n",
       " (315, 'be'),\n",
       " (291, 'said'),\n",
       " (289, 't'),\n",
       " (283, 'roberto'),\n",
       " (281, 'not'),\n",
       " (274, 'them')]"
      ]
     },
     "execution_count": 36,
     "metadata": {},
     "output_type": "execute_result"
    }
   ],
   "source": [
    "d_list[30:40]"
   ]
  },
  {
   "cell_type": "code",
   "execution_count": 42,
   "id": "ab9d837b-b31b-4780-889c-fde68de58f1b",
   "metadata": {
    "tags": []
   },
   "outputs": [],
   "source": [
    "filtered_words=[]\n",
    "for count,word in d_list:\n",
    "    if word not in english_stopwords:\n",
    "        #print(f'{word} not in stopwords')\n",
    "        filtered_words.append((word,count))"
   ]
  },
  {
   "cell_type": "code",
   "execution_count": 44,
   "id": "eeca843a-fdc8-4afb-a005-1bc52636174e",
   "metadata": {
    "tags": []
   },
   "outputs": [
    {
     "data": {
      "text/plain": [
       "[('would', 574),\n",
       " ('us', 518),\n",
       " ('said', 291),\n",
       " ('roberto', 283),\n",
       " ('could', 251),\n",
       " ('one', 248),\n",
       " ('snow', 226),\n",
       " ('mountain', 182),\n",
       " ('time', 181),\n",
       " ('like', 164)]"
      ]
     },
     "execution_count": 44,
     "metadata": {},
     "output_type": "execute_result"
    }
   ],
   "source": [
    "filtered_words[:10]"
   ]
  },
  {
   "cell_type": "code",
   "execution_count": 45,
   "id": "38e077c8-9b12-4701-a6c3-1569d326399b",
   "metadata": {
    "tags": []
   },
   "outputs": [
    {
     "data": {
      "text/plain": [
       "[('moment', 102), ('know', 99), ('much', 96), ('began', 96), ('roy', 94)]"
      ]
     },
     "execution_count": 45,
     "metadata": {},
     "output_type": "execute_result"
    }
   ],
   "source": [
    "filtered_words[30:35]"
   ]
  },
  {
   "cell_type": "markdown",
   "id": "7bf468ae-ea98-4dea-afc9-19e2715fc192",
   "metadata": {},
   "source": [
    "# Sentiment analysis: What is the most positive and the most negative chapter?"
   ]
  },
  {
   "cell_type": "markdown",
   "id": "11d1d3fd-fc75-4c36-ae3a-aafd5038b054",
   "metadata": {},
   "source": [
    "### An example"
   ]
  },
  {
   "cell_type": "code",
   "execution_count": 47,
   "id": "9a21ac5c-9bd3-40ad-9faf-c20438bb6a19",
   "metadata": {
    "tags": []
   },
   "outputs": [],
   "source": [
    "from nltk.sentiment import SentimentIntensityAnalyzer"
   ]
  },
  {
   "cell_type": "code",
   "execution_count": 50,
   "id": "b6748381-8578-4ba2-8ad0-8e4ce4c63d8f",
   "metadata": {
    "tags": []
   },
   "outputs": [
    {
     "name": "stderr",
     "output_type": "stream",
     "text": [
      "[nltk_data] Downloading package vader_lexicon to\n",
      "[nltk_data]     /home/sree/nltk_data...\n",
      "[nltk_data]   Package vader_lexicon is already up-to-date!\n"
     ]
    },
    {
     "data": {
      "text/plain": [
       "True"
      ]
     },
     "execution_count": 50,
     "metadata": {},
     "output_type": "execute_result"
    }
   ],
   "source": [
    "#Resource vader_lexicon not found.\n",
    "#Please use the NLTK Downloader to obtain the resource:\n",
    "import nltk\n",
    "nltk.download('vader_lexicon')"
   ]
  },
  {
   "cell_type": "code",
   "execution_count": 51,
   "id": "ddc7a1af-4815-47cf-801a-927b7c48144e",
   "metadata": {
    "tags": []
   },
   "outputs": [],
   "source": [
    "analyzer=SentimentIntensityAnalyzer()"
   ]
  },
  {
   "cell_type": "code",
   "execution_count": 52,
   "id": "07a9b78d-cb4d-43b2-a7db-b962d1b9e102",
   "metadata": {
    "tags": []
   },
   "outputs": [
    {
     "data": {
      "text/plain": [
       "<nltk.sentiment.vader.SentimentIntensityAnalyzer at 0x7f6ef7f00d10>"
      ]
     },
     "execution_count": 52,
     "metadata": {},
     "output_type": "execute_result"
    }
   ],
   "source": [
    "analyzer"
   ]
  },
  {
   "cell_type": "code",
   "execution_count": 55,
   "id": "c91b6e78-d9fe-482e-941a-cc50d3f35e5e",
   "metadata": {
    "tags": []
   },
   "outputs": [
    {
     "data": {
      "text/plain": [
       "['__class__',\n",
       " '__delattr__',\n",
       " '__dict__',\n",
       " '__dir__',\n",
       " '__doc__',\n",
       " '__eq__',\n",
       " '__format__',\n",
       " '__ge__',\n",
       " '__getattribute__',\n",
       " '__getstate__',\n",
       " '__gt__',\n",
       " '__hash__',\n",
       " '__init__',\n",
       " '__init_subclass__',\n",
       " '__le__',\n",
       " '__lt__',\n",
       " '__module__',\n",
       " '__ne__',\n",
       " '__new__',\n",
       " '__reduce__',\n",
       " '__reduce_ex__',\n",
       " '__repr__',\n",
       " '__setattr__',\n",
       " '__sizeof__',\n",
       " '__str__',\n",
       " '__subclasshook__',\n",
       " '__weakref__',\n",
       " '_amplify_ep',\n",
       " '_amplify_qm',\n",
       " '_but_check',\n",
       " '_idioms_check',\n",
       " '_least_check',\n",
       " '_never_check',\n",
       " '_punctuation_emphasis',\n",
       " '_sift_sentiment_scores',\n",
       " 'constants',\n",
       " 'lexicon',\n",
       " 'lexicon_file',\n",
       " 'make_lex_dict',\n",
       " 'polarity_scores',\n",
       " 'score_valence',\n",
       " 'sentiment_valence']"
      ]
     },
     "execution_count": 55,
     "metadata": {},
     "output_type": "execute_result"
    }
   ],
   "source": [
    "dir(analyzer)"
   ]
  },
  {
   "cell_type": "code",
   "execution_count": 56,
   "id": "a222353a-570b-4c28-b090-97037a68c8e1",
   "metadata": {
    "tags": []
   },
   "outputs": [
    {
     "data": {
      "text/plain": [
       "{'neg': 0.0, 'neu': 0.464, 'pos': 0.536, 'compound': 0.8442}"
      ]
     },
     "execution_count": 56,
     "metadata": {},
     "output_type": "execute_result"
    }
   ],
   "source": [
    "analyzer.polarity_scores('Hey, look how beautiful the tess are. I love them.')"
   ]
  },
  {
   "cell_type": "code",
   "execution_count": null,
   "id": "61b6aef7-2b62-4f14-9591-a05c70e028a3",
   "metadata": {},
   "outputs": [],
   "source": [
    "# ^negatvt0-1 ^neutrality0-1 ^positivity0-1 ^-1 to 1,above 0 means more positivethan negative "
   ]
  },
  {
   "cell_type": "code",
   "execution_count": 58,
   "id": "e5436f9c-21cc-4d11-8474-a777dbfaa2fe",
   "metadata": {
    "tags": []
   },
   "outputs": [
    {
     "data": {
      "text/plain": [
       "{'neg': 0.0, 'neu': 0.423, 'pos': 0.577, 'compound': 0.9231}"
      ]
     },
     "execution_count": 58,
     "metadata": {},
     "output_type": "execute_result"
    }
   ],
   "source": [
    "analyzer.polarity_scores('Hey, look how beautiful the tess are. I love them.I really love them.')# more positive!!!"
   ]
  },
  {
   "cell_type": "code",
   "execution_count": 64,
   "id": "823e025a-fd0c-460c-9397-a8ef83cd0530",
   "metadata": {
    "tags": []
   },
   "outputs": [],
   "source": [
    "scores=analyzer.polarity_scores('Hey, look how bad the trees are. I hate them. I really hate them.')# negtive!!!"
   ]
  },
  {
   "cell_type": "code",
   "execution_count": 63,
   "id": "630f3f21-16f7-47f5-83d6-23109b4598d0",
   "metadata": {
    "tags": []
   },
   "outputs": [
    {
     "data": {
      "text/plain": [
       "{'neg': 0.548, 'neu': 0.452, 'pos': 0.0, 'compound': -0.8979}"
      ]
     },
     "execution_count": 63,
     "metadata": {},
     "output_type": "execute_result"
    }
   ],
   "source": [
    "scores"
   ]
  },
  {
   "cell_type": "code",
   "execution_count": 65,
   "id": "74b19ab7-e055-4a38-8342-12d6882eeb08",
   "metadata": {
    "tags": []
   },
   "outputs": [
    {
     "name": "stdout",
     "output_type": "stream",
     "text": [
      "Its a negative text\n"
     ]
    }
   ],
   "source": [
    "if scores['pos']>scores['neg']:\n",
    "    print('It is a positive text')\n",
    "else:\n",
    "    print('Its a negative text')"
   ]
  },
  {
   "cell_type": "code",
   "execution_count": 66,
   "id": "2815e2ce-3cfa-4989-a7d9-3ee5ad032d86",
   "metadata": {
    "tags": []
   },
   "outputs": [
    {
     "data": {
      "text/plain": [
       "{'neg': 0.116, 'neu': 0.76, 'pos': 0.125, 'compound': 1.0}"
      ]
     },
     "execution_count": 66,
     "metadata": {},
     "output_type": "execute_result"
    }
   ],
   "source": [
    "analyzer.polarity_scores(book)"
   ]
  },
  {
   "cell_type": "markdown",
   "id": "f3e15c99-9210-4b22-ae8a-64f9e8d557c6",
   "metadata": {},
   "source": [
    "## Chapters sentiment analysis"
   ]
  },
  {
   "cell_type": "code",
   "execution_count": 67,
   "id": "c8f7d172-9ba4-4d8f-a942-1bd4d83c61d6",
   "metadata": {
    "tags": []
   },
   "outputs": [],
   "source": [
    "import re\n",
    "pattern=re.compile('Chapter [0-9]+')\n",
    "chapters=re.split(pattern,book)# split text by pattern!!!!"
   ]
  },
  {
   "cell_type": "code",
   "execution_count": 69,
   "id": "113039b5-daa9-4454-984f-78b17e89719f",
   "metadata": {
    "tags": []
   },
   "outputs": [],
   "source": [
    "chapters=chapters[1:]# just removing the first empty element"
   ]
  },
  {
   "cell_type": "code",
   "execution_count": 72,
   "id": "1d723dd5-0196-4800-86ba-99fe682d28c4",
   "metadata": {
    "tags": []
   },
   "outputs": [],
   "source": [
    "#chapters[:2]"
   ]
  },
  {
   "cell_type": "code",
   "execution_count": 77,
   "id": "9d94d7d7-99ab-4fe6-92a4-c77019fa9b3a",
   "metadata": {
    "tags": []
   },
   "outputs": [
    {
     "name": "stdout",
     "output_type": "stream",
     "text": [
      "Chapter1: {'neg': 0.061, 'neu': 0.779, 'pos': 0.16, 'compound': 1.0}\n",
      "Chapter2: {'neg': 0.12, 'neu': 0.726, 'pos': 0.154, 'compound': 0.9991}\n",
      "Chapter3: {'neg': 0.145, 'neu': 0.751, 'pos': 0.105, 'compound': -0.9999}\n",
      "Chapter4: {'neg': 0.141, 'neu': 0.721, 'pos': 0.138, 'compound': -0.9963}\n",
      "Chapter5: {'neg': 0.118, 'neu': 0.742, 'pos': 0.141, 'compound': 0.9997}\n",
      "Chapter6: {'neg': 0.124, 'neu': 0.761, 'pos': 0.115, 'compound': -0.9979}\n",
      "Chapter7: {'neg': 0.136, 'neu': 0.761, 'pos': 0.103, 'compound': -0.9999}\n",
      "Chapter8: {'neg': 0.12, 'neu': 0.786, 'pos': 0.094, 'compound': -0.9998}\n",
      "Chapter9: {'neg': 0.097, 'neu': 0.824, 'pos': 0.079, 'compound': -0.9996}\n",
      "Chapter10: {'neg': 0.086, 'neu': 0.733, 'pos': 0.181, 'compound': 1.0}\n"
     ]
    }
   ],
   "source": [
    "#get sentiment for each chapter\n",
    "for nr,chapter in enumerate(chapters):\n",
    "    scores=analyzer.polarity_scores(chapter)\n",
    "    print(f'Chapter{nr+1}: {scores}')"
   ]
  }
 ],
 "metadata": {
  "kernelspec": {
   "display_name": "Python 3 (ipykernel)",
   "language": "python",
   "name": "python3"
  },
  "language_info": {
   "codemirror_mode": {
    "name": "ipython",
    "version": 3
   },
   "file_extension": ".py",
   "mimetype": "text/x-python",
   "name": "python",
   "nbconvert_exporter": "python",
   "pygments_lexer": "ipython3",
   "version": "3.11.2"
  }
 },
 "nbformat": 4,
 "nbformat_minor": 5
}
